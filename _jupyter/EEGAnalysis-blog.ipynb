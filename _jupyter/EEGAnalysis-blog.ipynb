{
 "cells": [
  {
   "cell_type": "code",
   "execution_count": null,
   "metadata": {},
   "outputs": [],
   "source": [
    "# INSTALL Python3, CONDA, JUPYTER\n",
    "\n",
    "# MAIN LIBRARIES USED:\n",
    "# MNE\n",
    "# MNE_FEATURES\n",
    "# PYTHON MULTIPROCESSING, CONCURRENT, TIME\n",
    "import numpy as np"
   ]
  },
  {
   "cell_type": "code",
   "execution_count": 9,
   "metadata": {},
   "outputs": [
    {
     "name": "stderr",
     "output_type": "stream",
     "text": [
      "/home/venkat/miniconda3/lib/python3.6/importlib/_bootstrap.py:219: RuntimeWarning: numpy.ufunc size changed, may indicate binary incompatibility. Expected 192 from C header, got 216 from PyObject\n",
      "  return f(*args, **kwds)\n",
      "/home/venkat/miniconda3/lib/python3.6/site-packages/mne_features/mock_numba.py:12: UserWarning: Numba not found. Your code will be slower.\n",
      "  warn('Numba not found. Your code will be slower.')\n",
      "/home/venkat/miniconda3/lib/python3.6/importlib/_bootstrap.py:219: RuntimeWarning: numpy.ufunc size changed, may indicate binary incompatibility. Expected 192 from C header, got 216 from PyObject\n",
      "  return f(*args, **kwds)\n",
      "/home/venkat/miniconda3/lib/python3.6/site-packages/sklearn/externals/joblib/__init__.py:15: DeprecationWarning: sklearn.externals.joblib is deprecated in 0.21 and will be removed in 0.23. Please import this functionality directly from joblib, which can be installed with: pip install joblib. If this warning is raised when loading pickled models, you may need to re-serialize those models with scikit-learn 0.21+.\n",
      "  warnings.warn(msg, category=DeprecationWarning)\n",
      "<ipython-input-9-5c75e6e2da80>:5: RuntimeWarning: Data will be preloaded. preload=False or a string preload is not supported when the data is stored in the .set file\n",
      "  mcifile=mne.io.read_raw_eeglab(\"/home/venkat/Downloads/submission/ClassifierTestsample/aMCI/CAUH_298.set\")\n"
     ]
    }
   ],
   "source": [
    "## READ A SAMPLE FILE TO EXTRACT SAMPLING FREQUENCY\n",
    "import mne\n",
    "import mne_features\n",
    "\n",
    "mcifile=mne.io.read_raw_eeglab(\"/home/venkat/Downloads/submission/ClassifierTestsample/aMCI/CAUH_298.set\")\n"
   ]
  },
  {
   "cell_type": "code",
   "execution_count": 10,
   "metadata": {},
   "outputs": [
    {
     "data": {
      "text/plain": [
       "<RawEEGLAB  |  CAUH_298.set, n_channels x n_times : 19 x 11990 (59.9 sec), ~1.8 MB, data loaded>"
      ]
     },
     "execution_count": 10,
     "metadata": {},
     "output_type": "execute_result"
    }
   ],
   "source": [
    "mcifile"
   ]
  },
  {
   "cell_type": "code",
   "execution_count": 11,
   "metadata": {},
   "outputs": [
    {
     "name": "stderr",
     "output_type": "stream",
     "text": [
      "<ipython-input-11-d023e05c39cd>:14: RuntimeWarning: Data will be preloaded. preload=False or a string preload is not supported when the data is stored in the .set file\n",
      "  f=mne.io.read_raw_eeglab(fn)\n",
      "<ipython-input-11-d023e05c39cd>:14: RuntimeWarning: Data will be preloaded. preload=False or a string preload is not supported when the data is stored in the .set file\n",
      "  f=mne.io.read_raw_eeglab(fn)\n",
      "<ipython-input-11-d023e05c39cd>:14: RuntimeWarning: Data will be preloaded. preload=False or a string preload is not supported when the data is stored in the .set file\n",
      "  f=mne.io.read_raw_eeglab(fn)\n",
      "<ipython-input-11-d023e05c39cd>:14: RuntimeWarning: The data contains 'boundary' events, indicating data discontinuities. Be cautious of filtering and epoching around these events.\n",
      "  f=mne.io.read_raw_eeglab(fn)\n",
      "<ipython-input-11-d023e05c39cd>:14: RuntimeWarning: Data will be preloaded. preload=False or a string preload is not supported when the data is stored in the .set file\n",
      "  f=mne.io.read_raw_eeglab(fn)\n",
      "<ipython-input-11-d023e05c39cd>:14: RuntimeWarning: Limited 1 annotation(s) that were expanding outside the data range.\n",
      "  f=mne.io.read_raw_eeglab(fn)\n",
      "<ipython-input-11-d023e05c39cd>:14: RuntimeWarning: The data contains 'boundary' events, indicating data discontinuities. Be cautious of filtering and epoching around these events.\n",
      "  f=mne.io.read_raw_eeglab(fn)\n",
      "<ipython-input-11-d023e05c39cd>:14: RuntimeWarning: Data will be preloaded. preload=False or a string preload is not supported when the data is stored in the .set file\n",
      "  f=mne.io.read_raw_eeglab(fn)\n",
      "<ipython-input-11-d023e05c39cd>:14: RuntimeWarning: Data will be preloaded. preload=False or a string preload is not supported when the data is stored in the .set file\n",
      "  f=mne.io.read_raw_eeglab(fn)\n",
      "<ipython-input-11-d023e05c39cd>:14: RuntimeWarning: The data contains 'boundary' events, indicating data discontinuities. Be cautious of filtering and epoching around these events.\n",
      "  f=mne.io.read_raw_eeglab(fn)\n",
      "<ipython-input-11-d023e05c39cd>:14: RuntimeWarning: Data will be preloaded. preload=False or a string preload is not supported when the data is stored in the .set file\n",
      "  f=mne.io.read_raw_eeglab(fn)\n",
      "<ipython-input-11-d023e05c39cd>:14: RuntimeWarning: The data contains 'boundary' events, indicating data discontinuities. Be cautious of filtering and epoching around these events.\n",
      "  f=mne.io.read_raw_eeglab(fn)\n",
      "<ipython-input-11-d023e05c39cd>:14: RuntimeWarning: Data will be preloaded. preload=False or a string preload is not supported when the data is stored in the .set file\n",
      "  f=mne.io.read_raw_eeglab(fn)\n",
      "<ipython-input-11-d023e05c39cd>:14: RuntimeWarning: Data will be preloaded. preload=False or a string preload is not supported when the data is stored in the .set file\n",
      "  f=mne.io.read_raw_eeglab(fn)\n",
      "<ipython-input-11-d023e05c39cd>:14: RuntimeWarning: The data contains 'boundary' events, indicating data discontinuities. Be cautious of filtering and epoching around these events.\n",
      "  f=mne.io.read_raw_eeglab(fn)\n",
      "<ipython-input-11-d023e05c39cd>:14: RuntimeWarning: Data will be preloaded. preload=False or a string preload is not supported when the data is stored in the .set file\n",
      "  f=mne.io.read_raw_eeglab(fn)\n",
      "<ipython-input-11-d023e05c39cd>:14: RuntimeWarning: The data contains 'boundary' events, indicating data discontinuities. Be cautious of filtering and epoching around these events.\n",
      "  f=mne.io.read_raw_eeglab(fn)\n",
      "<ipython-input-11-d023e05c39cd>:14: RuntimeWarning: Data will be preloaded. preload=False or a string preload is not supported when the data is stored in the .set file\n",
      "  f=mne.io.read_raw_eeglab(fn)\n",
      "<ipython-input-11-d023e05c39cd>:14: RuntimeWarning: Data will be preloaded. preload=False or a string preload is not supported when the data is stored in the .set file\n",
      "  f=mne.io.read_raw_eeglab(fn)\n",
      "<ipython-input-11-d023e05c39cd>:14: RuntimeWarning: Data will be preloaded. preload=False or a string preload is not supported when the data is stored in the .set file\n",
      "  f=mne.io.read_raw_eeglab(fn)\n",
      "<ipython-input-11-d023e05c39cd>:14: RuntimeWarning: The data contains 'boundary' events, indicating data discontinuities. Be cautious of filtering and epoching around these events.\n",
      "  f=mne.io.read_raw_eeglab(fn)\n",
      "<ipython-input-11-d023e05c39cd>:14: RuntimeWarning: Data will be preloaded. preload=False or a string preload is not supported when the data is stored in the .set file\n",
      "  f=mne.io.read_raw_eeglab(fn)\n",
      "<ipython-input-11-d023e05c39cd>:14: RuntimeWarning: Data will be preloaded. preload=False or a string preload is not supported when the data is stored in the .set file\n",
      "  f=mne.io.read_raw_eeglab(fn)\n",
      "<ipython-input-11-d023e05c39cd>:14: RuntimeWarning: Data will be preloaded. preload=False or a string preload is not supported when the data is stored in the .set file\n",
      "  f=mne.io.read_raw_eeglab(fn)\n",
      "<ipython-input-11-d023e05c39cd>:14: RuntimeWarning: The data contains 'boundary' events, indicating data discontinuities. Be cautious of filtering and epoching around these events.\n",
      "  f=mne.io.read_raw_eeglab(fn)\n",
      "<ipython-input-11-d023e05c39cd>:14: RuntimeWarning: Data will be preloaded. preload=False or a string preload is not supported when the data is stored in the .set file\n",
      "  f=mne.io.read_raw_eeglab(fn)\n",
      "<ipython-input-11-d023e05c39cd>:14: RuntimeWarning: Data will be preloaded. preload=False or a string preload is not supported when the data is stored in the .set file\n",
      "  f=mne.io.read_raw_eeglab(fn)\n",
      "<ipython-input-11-d023e05c39cd>:14: RuntimeWarning: The data contains 'boundary' events, indicating data discontinuities. Be cautious of filtering and epoching around these events.\n",
      "  f=mne.io.read_raw_eeglab(fn)\n",
      "<ipython-input-11-d023e05c39cd>:14: RuntimeWarning: Data will be preloaded. preload=False or a string preload is not supported when the data is stored in the .set file\n",
      "  f=mne.io.read_raw_eeglab(fn)\n",
      "<ipython-input-11-d023e05c39cd>:14: RuntimeWarning: The data contains 'boundary' events, indicating data discontinuities. Be cautious of filtering and epoching around these events.\n",
      "  f=mne.io.read_raw_eeglab(fn)\n",
      "<ipython-input-11-d023e05c39cd>:14: RuntimeWarning: Data will be preloaded. preload=False or a string preload is not supported when the data is stored in the .set file\n",
      "  f=mne.io.read_raw_eeglab(fn)\n",
      "<ipython-input-11-d023e05c39cd>:14: RuntimeWarning: The data contains 'boundary' events, indicating data discontinuities. Be cautious of filtering and epoching around these events.\n",
      "  f=mne.io.read_raw_eeglab(fn)\n"
     ]
    }
   ],
   "source": [
    "# CREATE FOLDER NAMED 'all'\n",
    "# COPY BOTH /Normal and /aMCI FILES INTO /all\n",
    "\n",
    "import os\n",
    "from pathlib import Path\n",
    "import mne as mne\n",
    "\n",
    "allfolder=\"/home/venkat/Downloads/submission/ClassifierTestsample/all/\"\n",
    "\n",
    "allfiles = os.listdir(allfolder)\n",
    "allfiles1=[]\n",
    "for fi in allfiles:\n",
    "    fn=(os.path.join('/home/venkat/Downloads/submission/ClassifierTestsample/all/', fi))\n",
    "    f=mne.io.read_raw_eeglab(fn)\n",
    "    allfiles1.append(f)"
   ]
  },
  {
   "cell_type": "code",
   "execution_count": null,
   "metadata": {},
   "outputs": [],
   "source": [
    "print(allfiles1[0].info['sfreq'])"
   ]
  },
  {
   "cell_type": "code",
   "execution_count": null,
   "metadata": {},
   "outputs": [],
   "source": [
    "allfiles1[0].n_times"
   ]
  },
  {
   "cell_type": "code",
   "execution_count": 13,
   "metadata": {},
   "outputs": [
    {
     "name": "stdout",
     "output_type": "stream",
     "text": [
      "['Fp1-AVG', 'F3-AVG', 'C3-AVG', 'P3-AVG', 'O1-AVG', 'Fp2-AVG', 'F4-AVG', 'C4-AVG', 'P4-AVG', 'O2-AVG', 'F7-AVG', 'T3-AVG', 'T5-AVG', 'F8-AVG', 'T4-AVG', 'T6-AVG', 'FZ-AVG', 'CZ-AVG', 'PZ-AVG']\n"
     ]
    },
    {
     "name": "stderr",
     "output_type": "stream",
     "text": [
      "<ipython-input-13-aa808821a290>:2: RuntimeWarning: Data will be preloaded. preload=False or a string preload is not supported when the data is stored in the .set file\n",
      "  f=mne.io.read_raw_eeglab(fn)\n"
     ]
    }
   ],
   "source": [
    "fn=(os.path.join('/home/venkat/Downloads/submission/ClassifierTestsample/all/', allfiles[0]))\n",
    "f=mne.io.read_raw_eeglab(fn)\n",
    "columns=f.ch_names\n",
    "print(columns)"
   ]
  },
  {
   "cell_type": "code",
   "execution_count": 12,
   "metadata": {},
   "outputs": [],
   "source": [
    "# specific frequency bands\n",
    "FREQ_BANDS = {\"delta\": [0.5, 4.5],\"theta\": [4.5, 8.5],\"alpha\": [8.5, 11.5],\"sigma\": [11.5, 15.5],\n",
    "                  \"beta\": [15.5, 30], \"all\": [0.5,45]}"
   ]
  },
  {
   "cell_type": "code",
   "execution_count": null,
   "metadata": {},
   "outputs": [],
   "source": [
    "# MAKE FIXED LENGTH EPOCHS\n",
    "epochs_data=[]\n",
    "epochs=[]\n",
    "for f in allfiles1:\n",
    "    events = mne.make_fixed_length_events(f, id=1, duration=4.)\n",
    "    epochs_train = mne.Epochs(f, events, tmin=0., tmax=4., baseline=None, reject=None, preload=True)\n",
    "    epochs_data.append(epochs_train.get_data())\n",
    "    epochs.append(epochs_train)"
   ]
  },
  {
   "cell_type": "code",
   "execution_count": null,
   "metadata": {},
   "outputs": [],
   "source": [
    "def bandpower(data, sf, band, window_sec=None, relative=False):\n",
    "    \"\"\"Compute the average power of the signal x in a specific frequency band.\n",
    "\n",
    "    Parameters\n",
    "    ----------\n",
    "    data : 1d-array\n",
    "        Input signal in the time-domain.\n",
    "    sf : float\n",
    "        Sampling frequency of the data.\n",
    "    band : list\n",
    "        Lower and upper frequencies of the band of interest.\n",
    "    window_sec : float\n",
    "        Length of each window in seconds.\n",
    "        If None, window_sec = (1 / min(band)) * 2\n",
    "    relative : boolean\n",
    "        If True, return the relative power (= divided by the total power of the signal).\n",
    "        If False (default), return the absolute power.\n",
    "\n",
    "    Return\n",
    "    ------\n",
    "    bp : float\n",
    "        Absolute or relative band power.\n",
    "    \"\"\"\n",
    "    from scipy.signal import welch\n",
    "    from scipy.integrate import simps\n",
    "    band = np.asarray(band)\n",
    "    low, high = band\n",
    "\n",
    "    # Define window length\n",
    "    if window_sec is not None:\n",
    "        nperseg = window_sec * sf\n",
    "    else:\n",
    "        nperseg = (2 / low) * sf\n",
    "       \n",
    "    # Compute the modified periodogram (Welch)\n",
    "    freqs, psd = welch(data, sf, nperseg=nperseg)\n",
    "    \n",
    "    # Frequency resolution\n",
    "    freq_res = freqs[1] - freqs[0]\n",
    "\n",
    "    # Find closest indices of band in frequency vector\n",
    "    idx_band = np.logical_and(freqs >= low, freqs <= high)\n",
    "\n",
    "    # Integral approximation of the spectrum using Simpson's rule.\n",
    "    bp = simps(psd[idx_band], dx=freq_res)\n",
    "\n",
    "    if relative:\n",
    "        bp = bp/simps(psd, dx=freq_res)\n",
    "    return bp"
   ]
  },
  {
   "cell_type": "code",
   "execution_count": null,
   "metadata": {},
   "outputs": [],
   "source": [
    "# COMPUTE ABSOLUTE AND RELATIVE BAND POWER\n",
    "from scipy.fftpack import fft,fft2, fftshift\n",
    "\n",
    "def calculate_band_powers(filenum,electrode, band):\n",
    "    \n",
    "    epoch_data = epochs_data[filenum]\n",
    "    nepochs=len(epoch_data)\n",
    "    channels=len(epoch_data[0])\n",
    "    timepoints=len(epoch_data[0][0])\n",
    "    \n",
    "    alist = []\n",
    "    for i in range(nepochs):  # number of epochs\n",
    "        for j in range(channels): # number of electrodes\n",
    "            if(j==electrode):\n",
    "                for k in range(timepoints): # number of time points in epoch\n",
    "                    alist.append(epoch_data[i][j][k])\n",
    "\n",
    "    electrode=np.reshape(alist, (nepochs,timepoints))\n",
    "    bp_sum=0\n",
    "    for epoch in electrode:\n",
    "        bp_sum+=bandpower(epoch, allfiles1[filenum].info['sfreq'], FREQ_BANDS[band], None, False)\n",
    "\n",
    "    avg_bp_sum=bp_sum/nepochs\n",
    "    return avg_bp_sum"
   ]
  },
  {
   "cell_type": "code",
   "execution_count": null,
   "metadata": {},
   "outputs": [],
   "source": [
    "# TYPE1 RELATIVE POWER\n",
    "def RP1(file_num):\n",
    "    band_power_by_electrode=band_power_all[file_num]\n",
    "    relative_band_powers={}\n",
    "    for band in FREQ_BANDS:\n",
    "        if(band!=\"all\"):\n",
    "            arr=[]\n",
    "            for i in range(19):\n",
    "                for j in range(19):\n",
    "                    if(i<j):\n",
    "                        bp1=band_power_by_electrode[band][i]\n",
    "                        bp2=band_power_by_electrode[band][j]\n",
    "\n",
    "                        rp1=(bp1-bp2)/(bp1+bp2)\n",
    "                        arr.append(rp1)\n",
    "            relative_band_powers[band]=arr\n",
    "\n",
    "    return relative_band_powers"
   ]
  },
  {
   "cell_type": "code",
   "execution_count": null,
   "metadata": {},
   "outputs": [],
   "source": [
    "# TYPE2 RELATIVE POWER\n",
    "def RP2(file_num):\n",
    "    band_power_by_electrode=band_power_all[file_num]\n",
    "    relative_band_powers={}\n",
    "    for band in FREQ_BANDS:\n",
    "        if(band!=\"all\"):\n",
    "            arr=[]\n",
    "            for i in range(19):\n",
    "                for j in range(19):\n",
    "                    if(i<j):\n",
    "                        bp1=band_power_by_electrode[band][i]\n",
    "                        bp2=band_power_by_electrode[band][j]\n",
    "                        tp=band_power_by_electrode[\"all\"][i]\n",
    "                        wp1=bp1/tp\n",
    "                        wp2=bp2/tp\n",
    "                        rp3=wp1-wp2/(wp1+wp2)\n",
    "                        arr.append(rp3)\n",
    "            relative_band_powers[band]=arr\n",
    "\n",
    "    return relative_band_powers"
   ]
  },
  {
   "cell_type": "code",
   "execution_count": null,
   "metadata": {},
   "outputs": [],
   "source": [
    "\n",
    "## TAKES LONG TIME - 19.085 seconds for all 20 files\n",
    "import concurrent\n",
    "import time\n",
    "\n",
    "band_power_all={}\n",
    "\n",
    "def process(j):\n",
    "    band_power_by_electrode={}\n",
    "    for band in FREQ_BANDS:\n",
    "        arr=[]\n",
    "        for i in range(19):\n",
    "            arr.append(calculate_band_powers(j,i, band))\n",
    "        band_power_by_electrode[band]=arr\n",
    "    \n",
    "    band_power_all[j]=band_power_by_electrode\n",
    "    return j, band_power_all[j]\n",
    "\n",
    "if __name__=='__main__':\n",
    "    start = time.time()\n",
    "    with concurrent.futures.ProcessPoolExecutor(8) as executor:\n",
    "        for row, result in executor.map(process, range(0,20)):\n",
    "            band_power_all[row] = result\n",
    "\n",
    "    print(time.time()-start)\n"
   ]
  },
  {
   "cell_type": "code",
   "execution_count": 14,
   "metadata": {},
   "outputs": [],
   "source": [
    "y=[None]*20\n",
    "i=0\n",
    "for fi in allfiles:\n",
    "    fn=(os.path.join('/home/venkat/connectomes/ClassifierTestsample/all', fi))\n",
    "    if(fi.startswith(\"C\")):\n",
    "        y[i]=1\n",
    "    else:\n",
    "        y[i]=0\n",
    "    i=i+1"
   ]
  },
  {
   "cell_type": "code",
   "execution_count": 15,
   "metadata": {},
   "outputs": [
    {
     "name": "stdout",
     "output_type": "stream",
     "text": [
      "[1, 1, 0, 0, 1, 0, 0, 1, 1, 0, 1, 1, 0, 0, 1, 1, 1, 0, 0, 0]\n"
     ]
    }
   ],
   "source": [
    "print(y)"
   ]
  },
  {
   "cell_type": "code",
   "execution_count": null,
   "metadata": {},
   "outputs": [],
   "source": [
    "# RELATIVE TYPE3 POWER\n",
    "# \n",
    "def RP3(file_num):\n",
    "    band_power_by_electrode=band_power_all[file_num]\n",
    "    relative_band_powers={}\n",
    "    for band in FREQ_BANDS:\n",
    "        if(band!=\"all\"):\n",
    "            arr=[]\n",
    "            for i in range(19):\n",
    "                for j in range(19):\n",
    "                    if(i<j):\n",
    "                        bp1=band_power_by_electrode[band][i]\n",
    "                        bp2=band_power_by_electrode[band][j]\n",
    "\n",
    "                        rp1=np.log(bp1)-np.log(bp2)\n",
    "                        arr.append(rp1)\n",
    "            relative_band_powers[band]=arr\n",
    "\n",
    "    return relative_band_powers"
   ]
  },
  {
   "cell_type": "code",
   "execution_count": null,
   "metadata": {},
   "outputs": [],
   "source": [
    "RP1_band_power={}\n",
    "RP2_band_power={}\n",
    "RP3_band_power={}\n",
    "\n",
    "for file_num in range(20):\n",
    "    RP1_band_power[file_num]=RP1(file_num)\n",
    "    RP2_band_power[file_num]=RP2(file_num)\n",
    "    RP3_band_power[file_num]=RP3(file_num)"
   ]
  },
  {
   "cell_type": "code",
   "execution_count": null,
   "metadata": {},
   "outputs": [],
   "source": [
    "# PARALLEL COMPUTATION OF NON LINEAR FEATURES\n",
    "# HIGUCHI FRACTAL DIMENSION\n",
    "# !!!!!!!CAUTION - SPEED DEPENDS ON HARDWARE\n",
    "\n",
    "## AS THIS STEP MAY TAKE LONG TIME, I HAVE (MANUALLY) WRITTEN THE\n",
    "# RESULTS OF THESE FUNCTIONS INTO CSV FILES\n",
    "# CALLED HIGUCHI.CSV AND APPROXENT.CSV\n",
    "\n",
    "import concurrent\n",
    "import time\n",
    "import mne_features\n",
    "\n",
    "features_higuchi = np.zeros((20, 19))\n",
    "\n",
    "def calculate_higuchi(i):\n",
    "    higuchi=mne_features.univariate.compute_higuchi_fd(allfiles1[i].get_data())\n",
    "    print(allfiles1[i], '------>', higuchi)\n",
    "    return i, higuchi\n",
    "\n",
    "if __name__=='__main__':\n",
    "    start = time.time();\n",
    "    with concurrent.futures.ProcessPoolExecutor(8) as executor:\n",
    "        for row, result in executor.map(calculate_higuchi, range(20)):\n",
    "            features_higuchi[row] = result\n",
    "\n",
    "    print(time.time()-start)"
   ]
  },
  {
   "cell_type": "code",
   "execution_count": null,
   "metadata": {},
   "outputs": [],
   "source": [
    "# PARALLEL COMPUTATION OF NON LINEAR FEATURES\n",
    "# APPROXIMATE ENTROPY\n",
    "# !!!!!!!CAUTION - SPEED DEPENDS ON HARDWARE\n",
    "\n",
    "import concurrent\n",
    "import time\n",
    "\n",
    "features_approx_ent = np.zeros((20, 19))\n",
    "\n",
    "def calculate_approx_entropy(i):\n",
    "    approx_entropy=mne_features.univariate.compute_app_entropy(allfiles1[i].get_data())\n",
    "    print(allfiles1[i], '------>', approx_entropy)\n",
    "    return i, approx_entropy\n",
    "\n",
    "if __name__=='__main__':\n",
    "    start = time.time();\n",
    "    with concurrent.futures.ProcessPoolExecutor(8) as executor:\n",
    "        for row, result in executor.map(calculate_approx_entropy, range(20)):\n",
    "            features_approx_ent[row] = result\n",
    "\n",
    "    print(time.time()-start)"
   ]
  },
  {
   "cell_type": "code",
   "execution_count": null,
   "metadata": {},
   "outputs": [],
   "source": [
    "print(np.savetxt(\"higuchi_features.csv\", features_higuchi, delimiter=\",\"))"
   ]
  },
  {
   "cell_type": "code",
   "execution_count": null,
   "metadata": {},
   "outputs": [],
   "source": [
    "X_beta_R1=np.zeros((20,171))\n",
    "for key in RP1_band_power.keys():\n",
    "    X_beta_R1[key,:]=RP1_band_power[key]['beta']\n",
    "    \n",
    "X_beta_R2=np.zeros((20,171))\n",
    "for key in RP2_band_power.keys():\n",
    "    X_beta_R2[key,:]=RP2_band_power[key]['beta']\n",
    "    \n",
    "X_beta_R3=np.zeros((20,171))\n",
    "for key in RP3_band_power.keys():\n",
    "    X_beta_R3[key,:]=RP3_band_power[key]['beta']"
   ]
  },
  {
   "cell_type": "code",
   "execution_count": null,
   "metadata": {},
   "outputs": [],
   "source": [
    "# ALPHAS ARE NAN - WHY?\n",
    "\n",
    "X_sigma_R1=np.zeros((20,171))\n",
    "for key in RP1_band_power.keys():\n",
    "    X_sigma_R1[key,:]=RP1_band_power[key]['sigma']\n",
    "    \n",
    "X_sigma_R2=np.zeros((20,171))\n",
    "for key in RP2_band_power.keys():\n",
    "    X_sigma_R2[key,:]=RP2_band_power[key]['sigma']\n",
    "    \n",
    "X_sigma_R3=np.zeros((20,171))\n",
    "for key in RP3_band_power.keys():\n",
    "    X_sigma_R3[key,:]=RP3_band_power[key]['sigma']"
   ]
  },
  {
   "cell_type": "code",
   "execution_count": null,
   "metadata": {},
   "outputs": [],
   "source": [
    "X_theta_R1=np.zeros((20,171))\n",
    "for key in RP1_band_power.keys():\n",
    "    X_theta_R1[key,:]=RP1_band_power[key]['theta']\n",
    "    \n",
    "X_theta_R2=np.zeros((20,171))\n",
    "for key in RP2_band_power.keys():\n",
    "    X_theta_R2[key,:]=RP2_band_power[key]['theta']\n",
    "    \n",
    "X_theta_R3=np.zeros((20,171))\n",
    "for key in RP3_band_power.keys():\n",
    "    X_theta_R3[key,:]=RP3_band_power[key]['theta']"
   ]
  },
  {
   "cell_type": "code",
   "execution_count": null,
   "metadata": {},
   "outputs": [],
   "source": [
    "# WHY ARE ALL ALPHAS ZERO?\n",
    "X_alpha_R1=np.zeros((20,171))\n",
    "for key in RP1_band_power.keys():\n",
    "    X_alpha_R1[key,:]=RP1_band_power[key]['alpha']\n",
    "    \n",
    "X_alpha_R2=np.zeros((20,171))\n",
    "for key in RP2_band_power.keys():\n",
    "    X_alpha_R2[key,:]=RP2_band_power[key]['alpha']\n",
    "    \n",
    "X_alpha_R3=np.zeros((20,171))\n",
    "for key in RP3_band_power.keys():\n",
    "    X_alpha_R3[key,:]=RP3_band_power[key]['alpha']"
   ]
  },
  {
   "cell_type": "code",
   "execution_count": null,
   "metadata": {},
   "outputs": [],
   "source": [
    "X_delta_R1=np.zeros((20,171))\n",
    "for key in RP1_band_power.keys():\n",
    "    X_beta_R1[key,:]=RP1_band_power[key]['beta']\n",
    "\n",
    "X_delta_R2=np.zeros((20,171))\n",
    "for key in RP2_band_power.keys():\n",
    "    X_beta_R2[key,:]=RP2_band_power[key]['beta']\n",
    "    \n",
    "X_delta_R3=np.zeros((20,171))\n",
    "for key in RP3_band_power.keys():\n",
    "    X_beta_R3[key,:]=RP3_band_power[key]['beta']"
   ]
  },
  {
   "cell_type": "code",
   "execution_count": null,
   "metadata": {},
   "outputs": [],
   "source": [
    "print(X_delta_R1)"
   ]
  },
  {
   "cell_type": "code",
   "execution_count": null,
   "metadata": {},
   "outputs": [],
   "source": [
    "\n",
    "from sklearn.ensemble import RandomForestClassifier\n",
    "from sklearn.model_selection import StratifiedKFold, cross_val_score\n",
    "from sklearn.pipeline import Pipeline, make_pipeline\n",
    "from sklearn.linear_model import LogisticRegression\n",
    "from sklearn.linear_model import RidgeClassifier\n",
    "from sklearn import neighbors\n",
    "from sklearn import svm\n",
    "from sklearn.discriminant_analysis import LinearDiscriminantAnalysis, QuadraticDiscriminantAnalysis\n",
    "from sklearn.naive_bayes import GaussianNB\n",
    "\n",
    "from mne_features.feature_extraction import FeatureExtractor\n",
    "\n",
    "###############################################################################\n",
    "\n",
    "pipe = Pipeline([('clf', RandomForestClassifier(n_estimators=100,max_depth=4,random_state=42))])\n",
    "pipe_logistic=Pipeline([('clf', LogisticRegression(solver='lbfgs', max_iter=1000,multi_class='ovr'))])\n",
    "pipe_knn = Pipeline([('clf', neighbors.KNeighborsClassifier())])\n",
    "pipe_svc = Pipeline([('clf', svm.SVC(kernel='poly', gamma='auto', C=10.0))])\n",
    "pipe_gb = Pipeline([('clf', GaussianNB())])\n",
    "pipe_ridge = Pipeline([('clf', RidgeClassifier())])\n",
    "pipe_lda=Pipeline([('clf', LinearDiscriminantAnalysis())])\n",
    "pipe_qda=Pipeline([('clf', QuadraticDiscriminantAnalysis())])\n",
    "\n",
    "\n",
    "skf = StratifiedKFold(n_splits=9, random_state=42)\n",
    "\n",
    "###############################################################################\n",
    "# Print the cross-validation accuracy score:\n",
    "scores_randomforest = cross_val_score(pipe, X_delta_R2, y, cv=skf)\n",
    "scores_logistic = cross_val_score(pipe_logistic, X_delta_R2, y, cv=skf)\n",
    "scores_knn = cross_val_score(pipe_knn, X_delta_R2, y, cv=skf)\n",
    "scores_svc = cross_val_score(pipe_svc, X_delta_R2, y, cv=skf)\n",
    "scores_gb = cross_val_score(pipe_gb, X_delta_R2, y, cv=skf)\n",
    "scores_ridge = cross_val_score(pipe_ridge, X_delta_R2, y, cv=skf)\n",
    "\n",
    "scores_lda = cross_val_score(pipe_lda, X_delta_R2, y, cv=skf)\n",
    "scores_qda = cross_val_score(pipe_qda, X_delta_R2, y, cv=skf)\n",
    "\n",
    "print('Random forest accuracy = ' , (np.mean(scores_randomforest),np.std(scores_randomforest)))\n",
    "print('Logistic regression accuracy = ' , (np.mean(scores_logistic),np.std(scores_logistic)))\n",
    "print('KNN accuracy = ' , (np.mean(scores_knn),np.std(scores_knn)))\n",
    "print('SVC accuracy = ' , (np.mean(scores_svc),np.std(scores_svc)))\n",
    "print('Naive Bayes accuracy = ' , (np.mean(scores_gb),np.std(scores_gb)))\n",
    "print('Ridge accuracy = ' , (np.mean(scores_ridge),np.std(scores_gb)))\n",
    "\n",
    "print('LDA accuracy = ', np.mean(scores_lda))\n",
    "print('QDA accuracy = ', np.mean(scores_qda))\n"
   ]
  },
  {
   "cell_type": "code",
   "execution_count": null,
   "metadata": {},
   "outputs": [],
   "source": [
    "!pip install pactools"
   ]
  },
  {
   "cell_type": "code",
   "execution_count": null,
   "metadata": {},
   "outputs": [],
   "source": [
    "import pactools as pac"
   ]
  },
  {
   "cell_type": "code",
   "execution_count": 232,
   "metadata": {},
   "outputs": [],
   "source": [
    "import numpy as np\n",
    "import matplotlib.pyplot as plt\n",
    "\n",
    "from pactools import Comodulogram, REFERENCES\n",
    "from pactools import simulate_pac\n",
    "\n",
    "\n",
    "###############################################################################\n",
    "# Let's first create an artificial signal with PAC.\n",
    "\n",
    "fs = 200.  # Hz\n",
    "high_fq = 4.5  # Hz\n",
    "low_fq = 0.5  # Hz\n",
    "low_fq_width = 1.0  # Hz\n",
    "\n",
    "n_points = 10000\n",
    "noise_level = 0.4\n",
    "\n",
    "signal=allfiles1[16].get_data()\n",
    "\n",
    "###############################################################################\n",
    "# Then, let's define the range of low frequency, and the list of methods used\n",
    "\n",
    "low_fq_range = np.linspace(8,12, 10)\n",
    "methods=['bispectrum']\n",
    "\n",
    "###############################################################################\n",
    "# To compute the comodulogram, we need to instanciate a `Comodulogram` object,\n",
    "# then call the method `fit`. The method `plot` draws the results on the given\n",
    "# subplot axes.\n",
    "\n",
    "# Define the subplots where the comodulogram will be plotted\n",
    "#n_lines = 3\n",
    "#n_columns = int(np.ceil(len(methods) / float(n_lines)))\n",
    "#fig, axs = plt.subplots(\n",
    "#    n_lines, n_columns, figsize=(4 * n_columns, 3 * n_lines))\n",
    "#axs = axs.ravel()\n",
    "\n",
    "mean_bispectrum_vals=np.zeros((19,))\n",
    "import pandas as pd\n",
    "locs=pd.read_csv(\"/home/venkat/Downloads/submission/ClassifierTestsample/10-20system.csv\")\n",
    "for ch in range(0,signal.shape[0]):\n",
    "# Compute the comodulograms and plot them\n",
    "    estimator = Comodulogram(fs=fs, low_fq_range=low_fq_range,\n",
    "                             low_fq_width=low_fq_width, method=method,\n",
    "                             progress_bar=False)\n",
    "    estimator.fit(signal[ch,:])\n",
    "    #estimator.plot(titles=[REFERENCES[method]], axs=[ax])\n",
    "\n",
    "    mean_bispectrum_vals[ch,]=np.mean(estimator.comod_)\n",
    "\n",
    "#plt.show()import pandas as pd\n"
   ]
  },
  {
   "cell_type": "code",
   "execution_count": 233,
   "metadata": {},
   "outputs": [
    {
     "data": {
      "image/png": "[encoded data removed]",
      "text/plain": [
       "<Figure size 432x288 with 1 Axes>"
      ]
     },
     "metadata": {},
     "output_type": "display_data"
    },
    {
     "data": {
      "text/plain": [
       "(<matplotlib.image.AxesImage at 0x7f1dbd606668>,\n",
       " <matplotlib.contour.QuadContourSet at 0x7f1dbd606320>)"
      ]
     },
     "execution_count": 233,
     "metadata": {},
     "output_type": "execute_result"
    }
   ],
   "source": [
    "mne.viz.plot_topomap(mean_bispectrum_vals, eeg_locs_2d)"
   ]
  },
  {
   "cell_type": "code",
   "execution_count": 187,
   "metadata": {},
   "outputs": [
    {
     "data": {
      "text/plain": [
       "[1, 1, 0, 0, 1, 0, 0, 1, 1, 0, 1, 1, 0, 0, 1, 1, 1, 0, 0, 0]"
      ]
     },
     "execution_count": 187,
     "metadata": {},
     "output_type": "execute_result"
    }
   ],
   "source": [
    "y"
   ]
  },
  {
   "cell_type": "code",
   "execution_count": 168,
   "metadata": {},
   "outputs": [
    {
     "data": {
      "text/html": [
       "<div>\n",
       "<style scoped>\n",
       "    .dataframe tbody tr th:only-of-type {\n",
       "        vertical-align: middle;\n",
       "    }\n",
       "\n",
       "    .dataframe tbody tr th {\n",
       "        vertical-align: top;\n",
       "    }\n",
       "\n",
       "    .dataframe thead th {\n",
       "        text-align: right;\n",
       "    }\n",
       "</style>\n",
       "<table border=\"1\" class=\"dataframe\">\n",
       "  <thead>\n",
       "    <tr style=\"text-align: right;\">\n",
       "      <th></th>\n",
       "      <th>0</th>\n",
       "      <th>1</th>\n",
       "      <th>2</th>\n",
       "    </tr>\n",
       "  </thead>\n",
       "  <tbody>\n",
       "    <tr>\n",
       "      <th>0</th>\n",
       "      <td>C3</td>\n",
       "      <td>-0.3249</td>\n",
       "      <td>0.0000</td>\n",
       "    </tr>\n",
       "    <tr>\n",
       "      <th>1</th>\n",
       "      <td>C4</td>\n",
       "      <td>0.3249</td>\n",
       "      <td>0.0000</td>\n",
       "    </tr>\n",
       "    <tr>\n",
       "      <th>2</th>\n",
       "      <td>Cz</td>\n",
       "      <td>0.0000</td>\n",
       "      <td>0.0000</td>\n",
       "    </tr>\n",
       "    <tr>\n",
       "      <th>3</th>\n",
       "      <td>F3</td>\n",
       "      <td>-0.2744</td>\n",
       "      <td>0.3467</td>\n",
       "    </tr>\n",
       "    <tr>\n",
       "      <th>4</th>\n",
       "      <td>F4</td>\n",
       "      <td>0.2744</td>\n",
       "      <td>0.3467</td>\n",
       "    </tr>\n",
       "    <tr>\n",
       "      <th>5</th>\n",
       "      <td>F7</td>\n",
       "      <td>-0.5879</td>\n",
       "      <td>0.4270</td>\n",
       "    </tr>\n",
       "    <tr>\n",
       "      <th>6</th>\n",
       "      <td>F8</td>\n",
       "      <td>0.5879</td>\n",
       "      <td>0.4270</td>\n",
       "    </tr>\n",
       "    <tr>\n",
       "      <th>7</th>\n",
       "      <td>Fp1</td>\n",
       "      <td>-0.2245</td>\n",
       "      <td>0.6910</td>\n",
       "    </tr>\n",
       "    <tr>\n",
       "      <th>8</th>\n",
       "      <td>Fp2</td>\n",
       "      <td>0.2245</td>\n",
       "      <td>0.6910</td>\n",
       "    </tr>\n",
       "    <tr>\n",
       "      <th>9</th>\n",
       "      <td>Fpz</td>\n",
       "      <td>0.0000</td>\n",
       "      <td>0.7266</td>\n",
       "    </tr>\n",
       "    <tr>\n",
       "      <th>10</th>\n",
       "      <td>Fz</td>\n",
       "      <td>0.0000</td>\n",
       "      <td>0.3249</td>\n",
       "    </tr>\n",
       "    <tr>\n",
       "      <th>11</th>\n",
       "      <td>O1</td>\n",
       "      <td>-0.2245</td>\n",
       "      <td>-0.6910</td>\n",
       "    </tr>\n",
       "    <tr>\n",
       "      <th>12</th>\n",
       "      <td>O2</td>\n",
       "      <td>0.2245</td>\n",
       "      <td>-0.6910</td>\n",
       "    </tr>\n",
       "    <tr>\n",
       "      <th>13</th>\n",
       "      <td>Oz</td>\n",
       "      <td>0.0000</td>\n",
       "      <td>-0.7266</td>\n",
       "    </tr>\n",
       "    <tr>\n",
       "      <th>14</th>\n",
       "      <td>P3</td>\n",
       "      <td>-0.2744</td>\n",
       "      <td>-0.3467</td>\n",
       "    </tr>\n",
       "    <tr>\n",
       "      <th>15</th>\n",
       "      <td>P4</td>\n",
       "      <td>0.2744</td>\n",
       "      <td>-0.3467</td>\n",
       "    </tr>\n",
       "    <tr>\n",
       "      <th>16</th>\n",
       "      <td>P7</td>\n",
       "      <td>-0.5879</td>\n",
       "      <td>-0.4270</td>\n",
       "    </tr>\n",
       "    <tr>\n",
       "      <th>17</th>\n",
       "      <td>P8</td>\n",
       "      <td>0.5879</td>\n",
       "      <td>-0.4270</td>\n",
       "    </tr>\n",
       "    <tr>\n",
       "      <th>18</th>\n",
       "      <td>Pz</td>\n",
       "      <td>0.0000</td>\n",
       "      <td>-0.3249</td>\n",
       "    </tr>\n",
       "    <tr>\n",
       "      <th>19</th>\n",
       "      <td>T7</td>\n",
       "      <td>-0.7266</td>\n",
       "      <td>0.0000</td>\n",
       "    </tr>\n",
       "    <tr>\n",
       "      <th>20</th>\n",
       "      <td>T8</td>\n",
       "      <td>0.7266</td>\n",
       "      <td>0.0000</td>\n",
       "    </tr>\n",
       "  </tbody>\n",
       "</table>\n",
       "</div>"
      ],
      "text/plain": [
       "      0       1       2\n",
       "0    C3 -0.3249  0.0000\n",
       "1    C4  0.3249  0.0000\n",
       "2    Cz  0.0000  0.0000\n",
       "3    F3 -0.2744  0.3467\n",
       "4    F4  0.2744  0.3467\n",
       "5    F7 -0.5879  0.4270\n",
       "6    F8  0.5879  0.4270\n",
       "7   Fp1 -0.2245  0.6910\n",
       "8   Fp2  0.2245  0.6910\n",
       "9   Fpz  0.0000  0.7266\n",
       "10   Fz  0.0000  0.3249\n",
       "11   O1 -0.2245 -0.6910\n",
       "12   O2  0.2245 -0.6910\n",
       "13   Oz  0.0000 -0.7266\n",
       "14   P3 -0.2744 -0.3467\n",
       "15   P4  0.2744 -0.3467\n",
       "16   P7 -0.5879 -0.4270\n",
       "17   P8  0.5879 -0.4270\n",
       "18   Pz  0.0000 -0.3249\n",
       "19   T7 -0.7266  0.0000\n",
       "20   T8  0.7266  0.0000"
      ]
     },
     "execution_count": 168,
     "metadata": {},
     "output_type": "execute_result"
    }
   ],
   "source": [
    "eeg_locs_2d=pd.read_csv('/home/venkat/Downloads/submission/ClassifierTestsample/eeg_10_20.csv', header=None)\n",
    "eeg_locs_2d"
   ]
  },
  {
   "cell_type": "code",
   "execution_count": 177,
   "metadata": {},
   "outputs": [
    {
     "data": {
      "image/png": "[encoded data removed]",
      "text/plain": [
       "<Figure size 432x288 with 1 Axes>"
      ]
     },
     "metadata": {},
     "output_type": "display_data"
    },
    {
     "data": {
      "text/plain": [
       "(<matplotlib.image.AxesImage at 0x7f1dbde57dd8>,\n",
       " <matplotlib.contour.QuadContourSet at 0x7f1dbde57a20>)"
      ]
     },
     "execution_count": 177,
     "metadata": {},
     "output_type": "execute_result"
    }
   ],
   "source": []
  },
  {
   "cell_type": "code",
   "execution_count": 170,
   "metadata": {},
   "outputs": [
    {
     "ename": "SyntaxError",
     "evalue": "invalid syntax (<ipython-input-170-8e94d606e11f>, line 2)",
     "output_type": "error",
     "traceback": [
      "\u001b[0;36m  File \u001b[0;32m\"<ipython-input-170-8e94d606e11f>\"\u001b[0;36m, line \u001b[0;32m2\u001b[0m\n\u001b[0;31m    allfiles1[0].info['chs'][i]['locs']=\u001b[0m\n\u001b[0m                                        ^\u001b[0m\n\u001b[0;31mSyntaxError\u001b[0m\u001b[0;31m:\u001b[0m invalid syntax\n"
     ]
    }
   ],
   "source": [
    "for i in range(0,19):\n",
    "    allfiles1[0].info['chs'][i]['locs']="
   ]
  },
  {
   "cell_type": "code",
   "execution_count": 16,
   "metadata": {},
   "outputs": [
    {
     "data": {
      "text/plain": [
       "{'delta': [0.5, 4.5],\n",
       " 'theta': [4.5, 8.5],\n",
       " 'alpha': [8.5, 11.5],\n",
       " 'sigma': [11.5, 15.5],\n",
       " 'beta': [15.5, 30],\n",
       " 'all': [0.5, 45]}"
      ]
     },
     "execution_count": 16,
     "metadata": {},
     "output_type": "execute_result"
    }
   ],
   "source": [
    "FREQ_BANDS"
   ]
  },
  {
   "cell_type": "code",
   "execution_count": 17,
   "metadata": {},
   "outputs": [
    {
     "data": {
      "text/plain": [
       "[0.5, 4.5]"
      ]
     },
     "execution_count": 17,
     "metadata": {},
     "output_type": "execute_result"
    }
   ],
   "source": [
    "FREQ_BANDS['delta']"
   ]
  },
  {
   "cell_type": "code",
   "execution_count": 21,
   "metadata": {},
   "outputs": [
    {
     "data": {
      "text/plain": [
       "(19, 11990)"
      ]
     },
     "execution_count": 21,
     "metadata": {},
     "output_type": "execute_result"
    }
   ],
   "source": [
    "allfiles1[0].get_data().shape"
   ]
  },
  {
   "cell_type": "code",
   "execution_count": 23,
   "metadata": {},
   "outputs": [
    {
     "data": {
      "text/plain": [
       "19"
      ]
     },
     "execution_count": 23,
     "metadata": {},
     "output_type": "execute_result"
    }
   ],
   "source": [
    "signal.shape[0]"
   ]
  },
  {
   "cell_type": "code",
   "execution_count": 24,
   "metadata": {},
   "outputs": [
    {
     "data": {
      "text/plain": [
       "array([[0.5       , 4.5       ],\n",
       "       [0.57142857, 4.48979592],\n",
       "       [0.64285714, 4.47959184],\n",
       "       [0.71428571, 4.46938776],\n",
       "       [0.78571429, 4.45918367],\n",
       "       [0.85714286, 4.44897959],\n",
       "       [0.92857143, 4.43877551],\n",
       "       [1.        , 4.42857143],\n",
       "       [1.07142857, 4.41836735],\n",
       "       [1.14285714, 4.40816327],\n",
       "       [1.21428571, 4.39795918],\n",
       "       [1.28571429, 4.3877551 ],\n",
       "       [1.35714286, 4.37755102],\n",
       "       [1.42857143, 4.36734694],\n",
       "       [1.5       , 4.35714286],\n",
       "       [1.57142857, 4.34693878],\n",
       "       [1.64285714, 4.33673469],\n",
       "       [1.71428571, 4.32653061],\n",
       "       [1.78571429, 4.31632653],\n",
       "       [1.85714286, 4.30612245],\n",
       "       [1.92857143, 4.29591837],\n",
       "       [2.        , 4.28571429],\n",
       "       [2.07142857, 4.2755102 ],\n",
       "       [2.14285714, 4.26530612],\n",
       "       [2.21428571, 4.25510204],\n",
       "       [2.28571429, 4.24489796],\n",
       "       [2.35714286, 4.23469388],\n",
       "       [2.42857143, 4.2244898 ],\n",
       "       [2.5       , 4.21428571],\n",
       "       [2.57142857, 4.20408163],\n",
       "       [2.64285714, 4.19387755],\n",
       "       [2.71428571, 4.18367347],\n",
       "       [2.78571429, 4.17346939],\n",
       "       [2.85714286, 4.16326531],\n",
       "       [2.92857143, 4.15306122],\n",
       "       [3.        , 4.14285714],\n",
       "       [3.07142857, 4.13265306],\n",
       "       [3.14285714, 4.12244898],\n",
       "       [3.21428571, 4.1122449 ],\n",
       "       [3.28571429, 4.10204082],\n",
       "       [3.35714286, 4.09183673],\n",
       "       [3.42857143, 4.08163265],\n",
       "       [3.5       , 4.07142857],\n",
       "       [3.57142857, 4.06122449],\n",
       "       [3.64285714, 4.05102041],\n",
       "       [3.71428571, 4.04081633],\n",
       "       [3.78571429, 4.03061224],\n",
       "       [3.85714286, 4.02040816],\n",
       "       [3.92857143, 4.01020408],\n",
       "       [4.        , 4.        ]])"
      ]
     },
     "execution_count": 24,
     "metadata": {},
     "output_type": "execute_result"
    }
   ],
   "source": [
    "low_fq_range"
   ]
  },
  {
   "cell_type": "code",
   "execution_count": 30,
   "metadata": {},
   "outputs": [
    {
     "data": {
      "text/plain": [
       "array([0.])"
      ]
     },
     "execution_count": 30,
     "metadata": {},
     "output_type": "execute_result"
    }
   ],
   "source": [
    "mean_bispectrum_vals[1,]"
   ]
  },
  {
   "cell_type": "code",
   "execution_count": 58,
   "metadata": {},
   "outputs": [
    {
     "data": {
      "text/plain": [
       "<Info | 17 non-empty fields\n",
       "    bads : list | 0 items\n",
       "    ch_names : list | Fp1-AVG, F3-AVG, C3-AVG, P3-AVG, O1-AVG, Fp2-AVG, ...\n",
       "    chs : list | 19 items (EEG: 19)\n",
       "    comps : list | 0 items\n",
       "    custom_ref_applied : bool | False\n",
       "    dev_head_t : Transform | 3 items\n",
       "    dig : list | 19 items (19 EEG)\n",
       "    events : list | 0 items\n",
       "    highpass : float | 0.0 Hz\n",
       "    hpi_meas : list | 0 items\n",
       "    hpi_results : list | 0 items\n",
       "    lowpass : float | 100.0 Hz\n",
       "    meas_date : NoneType | unspecified\n",
       "    nchan : int | 19\n",
       "    proc_history : list | 0 items\n",
       "    projs : list | 0 items\n",
       "    sfreq : float | 200.0 Hz\n",
       "    acq_pars : NoneType\n",
       "    acq_stim : NoneType\n",
       "    ctf_head_t : NoneType\n",
       "    description : NoneType\n",
       "    dev_ctf_t : NoneType\n",
       "    experimenter : NoneType\n",
       "    file_id : NoneType\n",
       "    gantry_angle : NoneType\n",
       "    hpi_subsystem : NoneType\n",
       "    kit_system_id : NoneType\n",
       "    line_freq : NoneType\n",
       "    meas_id : NoneType\n",
       "    proj_id : NoneType\n",
       "    proj_name : NoneType\n",
       "    subject_info : NoneType\n",
       "    xplotter_layout : NoneType\n",
       ">"
      ]
     },
     "execution_count": 58,
     "metadata": {},
     "output_type": "execute_result"
    }
   ],
   "source": [
    "allfiles1[0].info"
   ]
  },
  {
   "cell_type": "code",
   "execution_count": 171,
   "metadata": {},
   "outputs": [
    {
     "data": {
      "text/html": [
       "<div>\n",
       "<style scoped>\n",
       "    .dataframe tbody tr th:only-of-type {\n",
       "        vertical-align: middle;\n",
       "    }\n",
       "\n",
       "    .dataframe tbody tr th {\n",
       "        vertical-align: top;\n",
       "    }\n",
       "\n",
       "    .dataframe thead th {\n",
       "        text-align: right;\n",
       "    }\n",
       "</style>\n",
       "<table border=\"1\" class=\"dataframe\">\n",
       "  <thead>\n",
       "    <tr style=\"text-align: right;\">\n",
       "      <th></th>\n",
       "      <th>0</th>\n",
       "      <th>1</th>\n",
       "      <th>2</th>\n",
       "    </tr>\n",
       "  </thead>\n",
       "  <tbody>\n",
       "    <tr>\n",
       "      <th>0</th>\n",
       "      <td>−21.5</td>\n",
       "      <td>70.2</td>\n",
       "      <td>−0.1</td>\n",
       "    </tr>\n",
       "    <tr>\n",
       "      <th>1</th>\n",
       "      <td>−35.5</td>\n",
       "      <td>49.4</td>\n",
       "      <td>32.4</td>\n",
       "    </tr>\n",
       "    <tr>\n",
       "      <th>2</th>\n",
       "      <td>−52.2</td>\n",
       "      <td>−16.4</td>\n",
       "      <td>57.8</td>\n",
       "    </tr>\n",
       "    <tr>\n",
       "      <th>3</th>\n",
       "      <td>−39.5</td>\n",
       "      <td>−76.3</td>\n",
       "      <td>47.4</td>\n",
       "    </tr>\n",
       "    <tr>\n",
       "      <th>4</th>\n",
       "      <td>−26.8</td>\n",
       "      <td>−100.2</td>\n",
       "      <td>12.8</td>\n",
       "    </tr>\n",
       "    <tr>\n",
       "      <th>5</th>\n",
       "      <td>28.4</td>\n",
       "      <td>69.1</td>\n",
       "      <td>−0.4</td>\n",
       "    </tr>\n",
       "    <tr>\n",
       "      <th>6</th>\n",
       "      <td>40.2</td>\n",
       "      <td>47.6</td>\n",
       "      <td>32.1</td>\n",
       "    </tr>\n",
       "    <tr>\n",
       "      <th>7</th>\n",
       "      <td>54.1</td>\n",
       "      <td>−18.0</td>\n",
       "      <td>57.5</td>\n",
       "    </tr>\n",
       "    <tr>\n",
       "      <th>8</th>\n",
       "      <td>36.8</td>\n",
       "      <td>−74.9</td>\n",
       "      <td>49.2</td>\n",
       "    </tr>\n",
       "    <tr>\n",
       "      <th>9</th>\n",
       "      <td>24.1</td>\n",
       "      <td>−100.5</td>\n",
       "      <td>14.1</td>\n",
       "    </tr>\n",
       "    <tr>\n",
       "      <th>10</th>\n",
       "      <td>−54.8</td>\n",
       "      <td>33.9</td>\n",
       "      <td>−3.5</td>\n",
       "    </tr>\n",
       "    <tr>\n",
       "      <th>11</th>\n",
       "      <td>−70.2</td>\n",
       "      <td>−21.3</td>\n",
       "      <td>−10.7</td>\n",
       "    </tr>\n",
       "    <tr>\n",
       "      <th>12</th>\n",
       "      <td>−61.5</td>\n",
       "      <td>−65.3</td>\n",
       "      <td>1.1</td>\n",
       "    </tr>\n",
       "    <tr>\n",
       "      <th>13</th>\n",
       "      <td>56.6</td>\n",
       "      <td>30.8</td>\n",
       "      <td>−4.1</td>\n",
       "    </tr>\n",
       "    <tr>\n",
       "      <th>14</th>\n",
       "      <td>71.9</td>\n",
       "      <td>−25.2</td>\n",
       "      <td>−8.2</td>\n",
       "    </tr>\n",
       "    <tr>\n",
       "      <th>15</th>\n",
       "      <td>59.3</td>\n",
       "      <td>−67.6</td>\n",
       "      <td>3.8</td>\n",
       "    </tr>\n",
       "    <tr>\n",
       "      <th>16</th>\n",
       "      <td>0.6</td>\n",
       "      <td>40.9</td>\n",
       "      <td>53.9</td>\n",
       "    </tr>\n",
       "    <tr>\n",
       "      <th>17</th>\n",
       "      <td>0.8</td>\n",
       "      <td>−14.7</td>\n",
       "      <td>73.9</td>\n",
       "    </tr>\n",
       "    <tr>\n",
       "      <th>18</th>\n",
       "      <td>0.2</td>\n",
       "      <td>−62.1</td>\n",
       "      <td>64.5</td>\n",
       "    </tr>\n",
       "  </tbody>\n",
       "</table>\n",
       "</div>"
      ],
      "text/plain": [
       "        0       1      2\n",
       "0   −21.5    70.2   −0.1\n",
       "1   −35.5    49.4   32.4\n",
       "2   −52.2   −16.4   57.8\n",
       "3   −39.5   −76.3   47.4\n",
       "4   −26.8  −100.2   12.8\n",
       "5    28.4    69.1   −0.4\n",
       "6    40.2    47.6   32.1\n",
       "7    54.1   −18.0   57.5\n",
       "8    36.8   −74.9   49.2\n",
       "9    24.1  −100.5   14.1\n",
       "10  −54.8    33.9   −3.5\n",
       "11  −70.2   −21.3  −10.7\n",
       "12  −61.5   −65.3    1.1\n",
       "13   56.6    30.8   −4.1\n",
       "14   71.9   −25.2   −8.2\n",
       "15   59.3   −67.6    3.8\n",
       "16    0.6    40.9   53.9\n",
       "17    0.8   −14.7   73.9\n",
       "18    0.2   −62.1   64.5"
      ]
     },
     "execution_count": 171,
     "metadata": {},
     "output_type": "execute_result"
    }
   ],
   "source": [
    "eeg_locs=pd.read_csv('/home/venkat/Downloads/submission/ClassifierTestsample/10-20system.csv', header=None, thousands=',')\n",
    "eeg_locs"
   ]
  },
  {
   "cell_type": "code",
   "execution_count": 140,
   "metadata": {},
   "outputs": [],
   "source": [
    "eeg_locs_2d=eeg_locs.iloc[:,:2]"
   ]
  },
  {
   "cell_type": "code",
   "execution_count": 141,
   "metadata": {},
   "outputs": [
    {
     "ename": "ValueError",
     "evalue": "could not convert string to float: '−21.5'",
     "output_type": "error",
     "traceback": [
      "\u001b[0;31m---------------------------------------------------------------------------\u001b[0m",
      "\u001b[0;31mValueError\u001b[0m                                Traceback (most recent call last)",
      "\u001b[0;32m<ipython-input-141-69b0ed53abd4>\u001b[0m in \u001b[0;36m<module>\u001b[0;34m\u001b[0m\n\u001b[0;32m----> 1\u001b[0;31m \u001b[0meeg_locs_2d\u001b[0m\u001b[0;34m.\u001b[0m\u001b[0mastype\u001b[0m\u001b[0;34m(\u001b[0m\u001b[0mnp\u001b[0m\u001b[0;34m.\u001b[0m\u001b[0mfloat\u001b[0m\u001b[0;34m)\u001b[0m\u001b[0;34m\u001b[0m\u001b[0;34m\u001b[0m\u001b[0m\n\u001b[0m",
      "\u001b[0;32m~/miniconda3/lib/python3.6/site-packages/pandas/core/generic.py\u001b[0m in \u001b[0;36mastype\u001b[0;34m(self, dtype, copy, errors)\u001b[0m\n\u001b[1;32m   5696\u001b[0m         \u001b[0;32melse\u001b[0m\u001b[0;34m:\u001b[0m\u001b[0;34m\u001b[0m\u001b[0;34m\u001b[0m\u001b[0m\n\u001b[1;32m   5697\u001b[0m             \u001b[0;31m# else, only a single dtype is given\u001b[0m\u001b[0;34m\u001b[0m\u001b[0;34m\u001b[0m\u001b[0;34m\u001b[0m\u001b[0m\n\u001b[0;32m-> 5698\u001b[0;31m             \u001b[0mnew_data\u001b[0m \u001b[0;34m=\u001b[0m \u001b[0mself\u001b[0m\u001b[0;34m.\u001b[0m\u001b[0m_data\u001b[0m\u001b[0;34m.\u001b[0m\u001b[0mastype\u001b[0m\u001b[0;34m(\u001b[0m\u001b[0mdtype\u001b[0m\u001b[0;34m=\u001b[0m\u001b[0mdtype\u001b[0m\u001b[0;34m,\u001b[0m \u001b[0mcopy\u001b[0m\u001b[0;34m=\u001b[0m\u001b[0mcopy\u001b[0m\u001b[0;34m,\u001b[0m \u001b[0merrors\u001b[0m\u001b[0;34m=\u001b[0m\u001b[0merrors\u001b[0m\u001b[0;34m)\u001b[0m\u001b[0;34m\u001b[0m\u001b[0;34m\u001b[0m\u001b[0m\n\u001b[0m\u001b[1;32m   5699\u001b[0m             \u001b[0;32mreturn\u001b[0m \u001b[0mself\u001b[0m\u001b[0;34m.\u001b[0m\u001b[0m_constructor\u001b[0m\u001b[0;34m(\u001b[0m\u001b[0mnew_data\u001b[0m\u001b[0;34m)\u001b[0m\u001b[0;34m.\u001b[0m\u001b[0m__finalize__\u001b[0m\u001b[0;34m(\u001b[0m\u001b[0mself\u001b[0m\u001b[0;34m)\u001b[0m\u001b[0;34m\u001b[0m\u001b[0;34m\u001b[0m\u001b[0m\n\u001b[1;32m   5700\u001b[0m \u001b[0;34m\u001b[0m\u001b[0m\n",
      "\u001b[0;32m~/miniconda3/lib/python3.6/site-packages/pandas/core/internals/managers.py\u001b[0m in \u001b[0;36mastype\u001b[0;34m(self, dtype, copy, errors)\u001b[0m\n\u001b[1;32m    580\u001b[0m \u001b[0;34m\u001b[0m\u001b[0m\n\u001b[1;32m    581\u001b[0m     \u001b[0;32mdef\u001b[0m \u001b[0mastype\u001b[0m\u001b[0;34m(\u001b[0m\u001b[0mself\u001b[0m\u001b[0;34m,\u001b[0m \u001b[0mdtype\u001b[0m\u001b[0;34m,\u001b[0m \u001b[0mcopy\u001b[0m\u001b[0;34m:\u001b[0m \u001b[0mbool\u001b[0m \u001b[0;34m=\u001b[0m \u001b[0;32mFalse\u001b[0m\u001b[0;34m,\u001b[0m \u001b[0merrors\u001b[0m\u001b[0;34m:\u001b[0m \u001b[0mstr\u001b[0m \u001b[0;34m=\u001b[0m \u001b[0;34m\"raise\"\u001b[0m\u001b[0;34m)\u001b[0m\u001b[0;34m:\u001b[0m\u001b[0;34m\u001b[0m\u001b[0;34m\u001b[0m\u001b[0m\n\u001b[0;32m--> 582\u001b[0;31m         \u001b[0;32mreturn\u001b[0m \u001b[0mself\u001b[0m\u001b[0;34m.\u001b[0m\u001b[0mapply\u001b[0m\u001b[0;34m(\u001b[0m\u001b[0;34m\"astype\"\u001b[0m\u001b[0;34m,\u001b[0m \u001b[0mdtype\u001b[0m\u001b[0;34m=\u001b[0m\u001b[0mdtype\u001b[0m\u001b[0;34m,\u001b[0m \u001b[0mcopy\u001b[0m\u001b[0;34m=\u001b[0m\u001b[0mcopy\u001b[0m\u001b[0;34m,\u001b[0m \u001b[0merrors\u001b[0m\u001b[0;34m=\u001b[0m\u001b[0merrors\u001b[0m\u001b[0;34m)\u001b[0m\u001b[0;34m\u001b[0m\u001b[0;34m\u001b[0m\u001b[0m\n\u001b[0m\u001b[1;32m    583\u001b[0m \u001b[0;34m\u001b[0m\u001b[0m\n\u001b[1;32m    584\u001b[0m     \u001b[0;32mdef\u001b[0m \u001b[0mconvert\u001b[0m\u001b[0;34m(\u001b[0m\u001b[0mself\u001b[0m\u001b[0;34m,\u001b[0m \u001b[0;34m**\u001b[0m\u001b[0mkwargs\u001b[0m\u001b[0;34m)\u001b[0m\u001b[0;34m:\u001b[0m\u001b[0;34m\u001b[0m\u001b[0;34m\u001b[0m\u001b[0m\n",
      "\u001b[0;32m~/miniconda3/lib/python3.6/site-packages/pandas/core/internals/managers.py\u001b[0m in \u001b[0;36mapply\u001b[0;34m(self, f, filter, **kwargs)\u001b[0m\n\u001b[1;32m    440\u001b[0m                 \u001b[0mapplied\u001b[0m \u001b[0;34m=\u001b[0m \u001b[0mb\u001b[0m\u001b[0;34m.\u001b[0m\u001b[0mapply\u001b[0m\u001b[0;34m(\u001b[0m\u001b[0mf\u001b[0m\u001b[0;34m,\u001b[0m \u001b[0;34m**\u001b[0m\u001b[0mkwargs\u001b[0m\u001b[0;34m)\u001b[0m\u001b[0;34m\u001b[0m\u001b[0;34m\u001b[0m\u001b[0m\n\u001b[1;32m    441\u001b[0m             \u001b[0;32melse\u001b[0m\u001b[0;34m:\u001b[0m\u001b[0;34m\u001b[0m\u001b[0;34m\u001b[0m\u001b[0m\n\u001b[0;32m--> 442\u001b[0;31m                 \u001b[0mapplied\u001b[0m \u001b[0;34m=\u001b[0m \u001b[0mgetattr\u001b[0m\u001b[0;34m(\u001b[0m\u001b[0mb\u001b[0m\u001b[0;34m,\u001b[0m \u001b[0mf\u001b[0m\u001b[0;34m)\u001b[0m\u001b[0;34m(\u001b[0m\u001b[0;34m**\u001b[0m\u001b[0mkwargs\u001b[0m\u001b[0;34m)\u001b[0m\u001b[0;34m\u001b[0m\u001b[0;34m\u001b[0m\u001b[0m\n\u001b[0m\u001b[1;32m    443\u001b[0m             \u001b[0mresult_blocks\u001b[0m \u001b[0;34m=\u001b[0m \u001b[0m_extend_blocks\u001b[0m\u001b[0;34m(\u001b[0m\u001b[0mapplied\u001b[0m\u001b[0;34m,\u001b[0m \u001b[0mresult_blocks\u001b[0m\u001b[0;34m)\u001b[0m\u001b[0;34m\u001b[0m\u001b[0;34m\u001b[0m\u001b[0m\n\u001b[1;32m    444\u001b[0m \u001b[0;34m\u001b[0m\u001b[0m\n",
      "\u001b[0;32m~/miniconda3/lib/python3.6/site-packages/pandas/core/internals/blocks.py\u001b[0m in \u001b[0;36mastype\u001b[0;34m(self, dtype, copy, errors)\u001b[0m\n\u001b[1;32m    623\u001b[0m             \u001b[0mvals1d\u001b[0m \u001b[0;34m=\u001b[0m \u001b[0mvalues\u001b[0m\u001b[0;34m.\u001b[0m\u001b[0mravel\u001b[0m\u001b[0;34m(\u001b[0m\u001b[0;34m)\u001b[0m\u001b[0;34m\u001b[0m\u001b[0;34m\u001b[0m\u001b[0m\n\u001b[1;32m    624\u001b[0m             \u001b[0;32mtry\u001b[0m\u001b[0;34m:\u001b[0m\u001b[0;34m\u001b[0m\u001b[0;34m\u001b[0m\u001b[0m\n\u001b[0;32m--> 625\u001b[0;31m                 \u001b[0mvalues\u001b[0m \u001b[0;34m=\u001b[0m \u001b[0mastype_nansafe\u001b[0m\u001b[0;34m(\u001b[0m\u001b[0mvals1d\u001b[0m\u001b[0;34m,\u001b[0m \u001b[0mdtype\u001b[0m\u001b[0;34m,\u001b[0m \u001b[0mcopy\u001b[0m\u001b[0;34m=\u001b[0m\u001b[0;32mTrue\u001b[0m\u001b[0;34m)\u001b[0m\u001b[0;34m\u001b[0m\u001b[0;34m\u001b[0m\u001b[0m\n\u001b[0m\u001b[1;32m    626\u001b[0m             \u001b[0;32mexcept\u001b[0m \u001b[0;34m(\u001b[0m\u001b[0mValueError\u001b[0m\u001b[0;34m,\u001b[0m \u001b[0mTypeError\u001b[0m\u001b[0;34m)\u001b[0m\u001b[0;34m:\u001b[0m\u001b[0;34m\u001b[0m\u001b[0;34m\u001b[0m\u001b[0m\n\u001b[1;32m    627\u001b[0m                 \u001b[0;31m# e.g. astype_nansafe can fail on object-dtype of strings\u001b[0m\u001b[0;34m\u001b[0m\u001b[0;34m\u001b[0m\u001b[0;34m\u001b[0m\u001b[0m\n",
      "\u001b[0;32m~/miniconda3/lib/python3.6/site-packages/pandas/core/dtypes/cast.py\u001b[0m in \u001b[0;36mastype_nansafe\u001b[0;34m(arr, dtype, copy, skipna)\u001b[0m\n\u001b[1;32m    895\u001b[0m     \u001b[0;32mif\u001b[0m \u001b[0mcopy\u001b[0m \u001b[0;32mor\u001b[0m \u001b[0mis_object_dtype\u001b[0m\u001b[0;34m(\u001b[0m\u001b[0marr\u001b[0m\u001b[0;34m)\u001b[0m \u001b[0;32mor\u001b[0m \u001b[0mis_object_dtype\u001b[0m\u001b[0;34m(\u001b[0m\u001b[0mdtype\u001b[0m\u001b[0;34m)\u001b[0m\u001b[0;34m:\u001b[0m\u001b[0;34m\u001b[0m\u001b[0;34m\u001b[0m\u001b[0m\n\u001b[1;32m    896\u001b[0m         \u001b[0;31m# Explicit copy, or required since NumPy can't view from / to object.\u001b[0m\u001b[0;34m\u001b[0m\u001b[0;34m\u001b[0m\u001b[0;34m\u001b[0m\u001b[0m\n\u001b[0;32m--> 897\u001b[0;31m         \u001b[0;32mreturn\u001b[0m \u001b[0marr\u001b[0m\u001b[0;34m.\u001b[0m\u001b[0mastype\u001b[0m\u001b[0;34m(\u001b[0m\u001b[0mdtype\u001b[0m\u001b[0;34m,\u001b[0m \u001b[0mcopy\u001b[0m\u001b[0;34m=\u001b[0m\u001b[0;32mTrue\u001b[0m\u001b[0;34m)\u001b[0m\u001b[0;34m\u001b[0m\u001b[0;34m\u001b[0m\u001b[0m\n\u001b[0m\u001b[1;32m    898\u001b[0m \u001b[0;34m\u001b[0m\u001b[0m\n\u001b[1;32m    899\u001b[0m     \u001b[0;32mreturn\u001b[0m \u001b[0marr\u001b[0m\u001b[0;34m.\u001b[0m\u001b[0mview\u001b[0m\u001b[0;34m(\u001b[0m\u001b[0mdtype\u001b[0m\u001b[0;34m)\u001b[0m\u001b[0;34m\u001b[0m\u001b[0;34m\u001b[0m\u001b[0m\n",
      "\u001b[0;31mValueError\u001b[0m: could not convert string to float: '−21.5'"
     ]
    }
   ],
   "source": [
    "eeg_locs_2d.astype(np.float)"
   ]
  },
  {
   "cell_type": "code",
   "execution_count": 142,
   "metadata": {},
   "outputs": [],
   "source": [
    "data = eeg_locs_2d.apply(pd.to_numeric, errors='coerce')"
   ]
  },
  {
   "cell_type": "code",
   "execution_count": 172,
   "metadata": {},
   "outputs": [],
   "source": [
    "eeg_locs_2d=np.empty((19,2))\n",
    "eeg_locs_2d[0,:]=[-21.5,70.2]\n",
    "eeg_locs_2d[1,:]=[-35.5,49.4]\n",
    "eeg_locs_2d[2,:]=[-52.2,-16.4]\n",
    "eeg_locs_2d[3,:]=[-39.5,-76.3]\n",
    "eeg_locs_2d[4,:]=[-26.8,-100.2]\n",
    "eeg_locs_2d[5,:]=[28.4,69.1]\n",
    "eeg_locs_2d[6,:]=[40.2,47.6]\n",
    "eeg_locs_2d[7,:]=[54.1,-18.0]\n",
    "eeg_locs_2d[8,:]=[36.8,-74.9]\n",
    "eeg_locs_2d[9,:]=[24.1,-100.5]\n",
    "eeg_locs_2d[10,:]=[-54.8,33.9]\n",
    "eeg_locs_2d[11,:]=[-70.2,-21.3]\n",
    "eeg_locs_2d[12,:]=[-61.5,-65.3]\n",
    "eeg_locs_2d[13,:]=[56.6,30.8]\n",
    "eeg_locs_2d[14,:]=[71.9,-25.2]\n",
    "eeg_locs_2d[15,:]=[59.3,-67.6]\n",
    "eeg_locs_2d[16,:]=[0.6,40.9]\n",
    "eeg_locs_2d[17,:]=[0.8,-14.7]\n",
    "eeg_locs_2d[18,:]=[0.2,-62.1]"
   ]
  },
  {
   "cell_type": "code",
   "execution_count": 150,
   "metadata": {},
   "outputs": [
    {
     "data": {
      "text/plain": [
       "array([list([-21.5, 70.2]), list([-35.5, 49.4]), list([-52.2, -16.4]),\n",
       "       list([-115.8]), list([-26.8, -100.2]), list([28.4, 69.1]),\n",
       "       list([40.2, 47.6]), list([54.1, -18.0]), list([36.8, -74.9]),\n",
       "       list([24.1, -100.5]), list([-54.8, 33.9]), list([-91.5]),\n",
       "       list([-61.5, -65.3]), list([56.6, 30.8]), list([71.9, -25.2]),\n",
       "       list([59.3, -67.6]), list([0.6, 40.9]),\n",
       "       list([-13.899999999999999]), list([-61.9])], dtype=object)"
      ]
     },
     "execution_count": 150,
     "metadata": {},
     "output_type": "execute_result"
    }
   ],
   "source": [
    "np.array(eeg_locs_2d)"
   ]
  },
  {
   "cell_type": "code",
   "execution_count": null,
   "metadata": {},
   "outputs": [],
   "source": [
    "21.5\t70.2\t−0.1\n",
    "1\t−35.5\t49.4\t32.4\n",
    "2\t−52.2\t−16.4\t57.8\n",
    "3\t−39.5\t−76.3\t47.4\n",
    "4\t−26.8\t−100.2\t12.8\n",
    "5\t28.4\t69.1\t−0.4\n",
    "6\t40.2\t47.6\t32.1\n",
    "7\t54.1\t−18.0\t57.5\n",
    "8\t36.8\t−74.9\t49.2\n",
    "9\t24.1\t−100.5\t14.1\n",
    "10\t−54.8\t33.9\t−3.5\n",
    "11\t−70.2\t−21.3\t−10.7\n",
    "12\t−61.5\t−65.3\t1.1\n",
    "13\t56.6\t30.8\t−4.1\n",
    "14\t71.9\t−25.2\t−8.2\n",
    "15\t59.3\t−67.6\t3.8\n",
    "16\t0.6\t40.9\t53.9\n",
    "17\t0.8\t−14.7\t73.9\n",
    "18\t0.2\t−62.1\t64.5"
   ]
  }
 ],
 "metadata": {
  "kernelspec": {
   "display_name": "Python 3",
   "language": "python",
   "name": "python3"
  },
  "language_info": {
   "codemirror_mode": {
    "name": "ipython",
    "version": 3
   },
   "file_extension": ".py",
   "mimetype": "text/x-python",
   "name": "python",
   "nbconvert_exporter": "python",
   "pygments_lexer": "ipython3",
   "version": "3.6.10"
  }
 },
 "nbformat": 4,
 "nbformat_minor": 2
}
